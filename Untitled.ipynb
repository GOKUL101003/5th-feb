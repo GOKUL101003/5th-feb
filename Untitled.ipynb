{
 "cells": [
  {
   "cell_type": "code",
   "execution_count": null,
   "id": "5bef4516-42ee-48f4-aa9b-89a4ef6ef343",
   "metadata": {},
   "outputs": [],
   "source": [
    "'''\n",
    "Q1. Explain Class and Object with respect to Object-Oriented Programming. Give a suitable example.\n",
    "'''"
   ]
  },
  {
   "cell_type": "code",
   "execution_count": null,
   "id": "65e51a13-5545-4020-9a4e-ac72300f1a90",
   "metadata": {},
   "outputs": [],
   "source": [
    "'''\n",
    "In object-oriented programming (OOP), a class is a blueprint or a template that defines the \n",
    "characteristics (attributes) and behaviors (methods) of a particular type of object.\n",
    "An object, on the other hand, is an instance of a class. \n",
    "It represents a specific entity that possesses the attributes and behaviors defined by its class.\n",
    "''''"
   ]
  },
  {
   "cell_type": "code",
   "execution_count": 1,
   "id": "d2c280fb-f1d7-49da-beae-d16be0a8326d",
   "metadata": {},
   "outputs": [],
   "source": [
    "class test:\n",
    "    def __init__(self,phoneno,name,city):\n",
    "        self.phoneno = phoneno\n",
    "        self.name = name\n",
    "        self.city = city\n",
    "    def return_details(self):\n",
    "        return(self,phoneno,name,city)\n",
    "    \n",
    "        \n",
    "        "
   ]
  },
  {
   "cell_type": "code",
   "execution_count": 3,
   "id": "ce4e5f16-004c-446e-85b8-0d0146530a92",
   "metadata": {},
   "outputs": [],
   "source": [
    "gokul = test(2345678,\"geetha\",\"cbe\")\n"
   ]
  },
  {
   "cell_type": "code",
   "execution_count": 4,
   "id": "0608bd4d-f6fe-422d-868f-bdbb087d9355",
   "metadata": {},
   "outputs": [
    {
     "data": {
      "text/plain": [
       "2345678"
      ]
     },
     "execution_count": 4,
     "metadata": {},
     "output_type": "execute_result"
    }
   ],
   "source": [
    "gokul.phoneno"
   ]
  },
  {
   "cell_type": "code",
   "execution_count": 5,
   "id": "71eeb3d3-0a66-4121-86e5-1eb0655ea915",
   "metadata": {},
   "outputs": [
    {
     "data": {
      "text/plain": [
       "'geetha'"
      ]
     },
     "execution_count": 5,
     "metadata": {},
     "output_type": "execute_result"
    }
   ],
   "source": [
    "gokul.name"
   ]
  },
  {
   "cell_type": "code",
   "execution_count": 6,
   "id": "1c65058a-5dbd-4041-892e-17412a879454",
   "metadata": {},
   "outputs": [
    {
     "data": {
      "text/plain": [
       "'cbe'"
      ]
     },
     "execution_count": 6,
     "metadata": {},
     "output_type": "execute_result"
    }
   ],
   "source": [
    "gokul.city"
   ]
  },
  {
   "cell_type": "code",
   "execution_count": null,
   "id": "198d8e58-7d61-48df-ae30-b533efadb60f",
   "metadata": {},
   "outputs": [],
   "source": [
    "'''\n",
    "Q2. Name the four pillars of OOPs.\n",
    "'''"
   ]
  },
  {
   "cell_type": "code",
   "execution_count": null,
   "id": "36963c44-c0c9-42b0-b02b-8ad8d0f1cb1c",
   "metadata": {},
   "outputs": [],
   "source": [
    "'''\n",
    "The four pillars of object-oriented programming (OOP) are:\n",
    "\n",
    "Encapsulation: Encapsulation refers to the bundling of data (attributes) and methods (behaviors) together within a class.\n",
    "Inheritance: Inheritance allows the creation of new classes (derived classes) based on existing classes (base or parent classes). \n",
    "Polymorphism: Polymorphism means the ability of objects to exhibit different forms or behaviors based on the context.\n",
    "Abstraction: Abstraction involves the concept of simplifying complex systems by representing essential features while hiding unnecessary details.\n",
    "'''"
   ]
  },
  {
   "cell_type": "code",
   "execution_count": null,
   "id": "700146f6-cc2d-44a7-a127-b870a5f00712",
   "metadata": {},
   "outputs": [],
   "source": [
    "'''\n",
    "Q3. Explain why the __init__() function is used. Give a suitable example.\n",
    "'''"
   ]
  },
  {
   "cell_type": "code",
   "execution_count": null,
   "id": "fe75fe72-1fc6-4563-9e85-6c9af06129da",
   "metadata": {},
   "outputs": [],
   "source": [
    "'''\n",
    "The __init__() function, also known as the constructor, is used in object-oriented programming languages to \n",
    "initialize the attributes of an object when it is created.\n",
    "'''"
   ]
  },
  {
   "cell_type": "code",
   "execution_count": 7,
   "id": "0cb8cb40-ba0c-444b-9b5d-e320d5a04801",
   "metadata": {},
   "outputs": [],
   "source": [
    "class test1:\n",
    "    def __init__(self,car,number):\n",
    "        self.car = car\n",
    "        self.number = number\n",
    "    def return_details(self):\n",
    "        return(self,car,number)\n",
    "        "
   ]
  },
  {
   "cell_type": "code",
   "execution_count": 11,
   "id": "954fbe37-bcf2-4fb6-a832-f2038f1a0770",
   "metadata": {},
   "outputs": [],
   "source": [
    "lokesh = test1(\"bmw\",\"tn23am4574\")"
   ]
  },
  {
   "cell_type": "code",
   "execution_count": 9,
   "id": "03019643-0ba7-404e-9114-543121bc59f8",
   "metadata": {},
   "outputs": [
    {
     "data": {
      "text/plain": [
       "'bmw'"
      ]
     },
     "execution_count": 9,
     "metadata": {},
     "output_type": "execute_result"
    }
   ],
   "source": [
    "lokesh.car"
   ]
  },
  {
   "cell_type": "code",
   "execution_count": 12,
   "id": "27262ea4-7699-411d-aa89-387ddbf02d72",
   "metadata": {},
   "outputs": [
    {
     "data": {
      "text/plain": [
       "'tn23am4574'"
      ]
     },
     "execution_count": 12,
     "metadata": {},
     "output_type": "execute_result"
    }
   ],
   "source": [
    "lokesh.number"
   ]
  },
  {
   "cell_type": "code",
   "execution_count": null,
   "id": "2fafac1d-4ab9-465b-a62d-78e452c4f62f",
   "metadata": {},
   "outputs": [],
   "source": [
    "'''\n",
    "Q4. Why self is used in OOPs?\n",
    "'''"
   ]
  },
  {
   "cell_type": "code",
   "execution_count": null,
   "id": "12db93b1-3f24-4461-b497-32da69180737",
   "metadata": {},
   "outputs": [],
   "source": [
    "'''\n",
    "In object-oriented programming (OOP), the self keyword is used as a reference to the current instance of a class. \n",
    "It is a convention used in many programming languages, including Python, to refer to the object itself within the class's methods.\n",
    "'''"
   ]
  },
  {
   "cell_type": "code",
   "execution_count": null,
   "id": "0744811c-c55b-42e1-b23b-bd9646c4603b",
   "metadata": {},
   "outputs": [],
   "source": [
    "'''\n",
    "Q5. What is inheritance? Give an example for each type of inheritance.\n",
    "'''"
   ]
  },
  {
   "cell_type": "code",
   "execution_count": null,
   "id": "ee83e17d-ac06-42c9-9508-0f00cfee96a9",
   "metadata": {},
   "outputs": [],
   "source": [
    "'''\n",
    "Inheritance is a fundamental concept in object-oriented programming (OOP) that allows \n",
    "the creation of new classes (derived classes) based on existing classes (base or parent classes). \n",
    "'''"
   ]
  },
  {
   "cell_type": "code",
   "execution_count": null,
   "id": "f4aca485-ffc1-4899-8033-cb65bf204109",
   "metadata": {},
   "outputs": [],
   "source": []
  },
  {
   "cell_type": "code",
   "execution_count": null,
   "id": "03fd86df-3594-4fe5-96a4-cb6e52da9e94",
   "metadata": {},
   "outputs": [],
   "source": []
  },
  {
   "cell_type": "code",
   "execution_count": null,
   "id": "b39ce99b-9d48-4159-a122-38f5e05de75a",
   "metadata": {},
   "outputs": [],
   "source": []
  },
  {
   "cell_type": "code",
   "execution_count": null,
   "id": "9f7e9870-5a03-44a4-9fcc-7e4a17d95cd4",
   "metadata": {},
   "outputs": [],
   "source": []
  },
  {
   "cell_type": "code",
   "execution_count": null,
   "id": "db86bb0e-cbb1-4b4b-851d-c48694c74fc5",
   "metadata": {},
   "outputs": [],
   "source": []
  },
  {
   "cell_type": "code",
   "execution_count": null,
   "id": "568892da-463f-4cbd-99cc-0471e006637e",
   "metadata": {},
   "outputs": [],
   "source": []
  },
  {
   "cell_type": "code",
   "execution_count": null,
   "id": "fabae4bd-4b06-4379-8635-de7018088212",
   "metadata": {},
   "outputs": [],
   "source": []
  }
 ],
 "metadata": {
  "kernelspec": {
   "display_name": "Python 3 (ipykernel)",
   "language": "python",
   "name": "python3"
  },
  "language_info": {
   "codemirror_mode": {
    "name": "ipython",
    "version": 3
   },
   "file_extension": ".py",
   "mimetype": "text/x-python",
   "name": "python",
   "nbconvert_exporter": "python",
   "pygments_lexer": "ipython3",
   "version": "3.10.8"
  }
 },
 "nbformat": 4,
 "nbformat_minor": 5
}
